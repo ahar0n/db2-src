{
 "cells": [
  {
   "cell_type": "markdown",
   "metadata": {},
   "source": [
    "# Guía para el diseño de cubos OLAP"
   ]
  },
  {
   "cell_type": "markdown",
   "metadata": {},
   "source": [
    "## Open Database Conectivity (ODBC)"
   ]
  },
  {
   "cell_type": "markdown",
   "metadata": {},
   "source": [
    "Interfaz de programación de aplicaciones ([API](https://en.wikipedia.org/wiki/Application_programming_interface)) es un estándar para acceder a sistemas de gestión de bases de datos (SGBD).\n",
    "- Proporciona __independencia del SGBD__, utilizando un controlador ODBC [[1]](https://web.archive.org/web/20120204040624/http://www.openlinksw.com/info/docs/odbcwhp/open.htm#Connectivity%20Standard)[[2]](https://es.wikipedia.org/wiki/Open_Database_Connectivity) como capa de traducción entre las aplicaciones y el SGBD. \n",
    "- Las aplicaciones utilizan funciones a través del controladores ODBC con el que estan enlazadas, y __el controlador pasa la consulta al SGBD__.\n",
    "\n",
    "Algunas __tareas comunes__ para la utilización de un conector ODBC, son:\n",
    "\n",
    "- Selección y conexión con el servidor.\n",
    "- Envío de sentencias SQL para su ejecución.\n",
    "- Recuperación de resultados (si existen).\n",
    "- Errores de procesamiento.\n",
    "- Confirmación o anulación de la transacción que incluye la instrucción SQL.\n",
    "- Desconexión del servidor.\n",
    "\n",
    "La arquitectura Connector/ODBC se basa en cinco componentes: "
   ]
  },
  {
   "cell_type": "markdown",
   "metadata": {},
   "source": [
    "| ![Arquitectura conector ODBC](https://dev.mysql.com/doc/connectors/en/images/myarchitecture.png) |\n",
    "|:--:| \n",
    "| Fuente: [MySQL.com](https://dev.mysql.com/doc/connector-odbc/en/connector-odbc-architecture.html) |\n"
   ]
  },
  {
   "cell_type": "markdown",
   "metadata": {},
   "source": [
    "### Aplicaciones\n",
    "\n",
    "- Aplicaciones utilizan la API ODBC para acceder a los datos en el servidor MySQL. \n",
    "- La API ODBC a su vez se comunica con el Administrador de Controladores. \n",
    "- La Aplicación se comunica con el Administrador de Controladores utilizando las llamadas ODBC.\n",
    "\n",
    "### Administrador de Controladores\n",
    "Es una biblioteca que gestiona la comunicación entre las aplicaciones y los controladores. Realiza las siguientes tareas:\n",
    "\n",
    "- Resuelve nombres de fuentes de datos (DSN).\n",
    "- Requiere cargar y descargar el controlador específico para acceder a una base de datos según se define en el DSN.\n",
    "- Procesa llamadas a funciones ODBC o las pasa al controlador para su procesamiento.\n",
    "\n",
    "### Controlador Connector/ODBC\n",
    "\n",
    "Es una biblioteca que implementa las funciones admitidas por la API ODBC. \n",
    "- Procesa llamadas a funciones ODBC, \n",
    "- Envía solicitudes SQL al servidor MySQL y devuelve los resultados a la aplicación. \n",
    "- Si es necesario, el controlador modifica la solicitud de una aplicación para que la solicitud se ajuste a la sintaxis compatible con MySQL.\n",
    "\n",
    "### Servidor MySQL\n",
    "\n",
    "Corresponde a la base de datos MySQL donde se almacena la información. \n",
    "\n",
    "\n",
    "### Configuración de DSN:\n",
    "\n",
    "- El archivo de configuración ODBC almacena la información del controlador y la base de datos necesaria para conectarse al servidor. \n",
    "- El Administrador de Controladores lo utiliza para determinar qué controlador se debe cargar de acuerdo con la definición en el DSN. \n",
    "- La configuración de conexión (DSN - *Data Source Name*) [[1]](https://support.microsoft.com/en-us/help/966849/what-is-a-dsn-data-source-name)[[2]](https://en.wikipedia.org/wiki/Data_source_name) permite establecer la comunicación con la fuente de datos ODBC, es decir, establece los detalles de conexión: el nombre de la base de datos, el directorio, el controlador de la base de datos, identificación de usuario y contraseña la contraseña, entre otros."
   ]
  },
  {
   "cell_type": "markdown",
   "metadata": {},
   "source": [
    "## Instalación del driver ODBC y configuración de la conexión"
   ]
  },
  {
   "cell_type": "markdown",
   "metadata": {},
   "source": [
    "__IMPORTANTE__: Para establecer una concexión, debe conocer los parámetros de conexión. Si trabaja con un servidor en su propia máquina (local), debe contar con una instalación del motor de base de datos, de lo contrario, puede instalar MySQL a partir de una de las siguientes alternativas,\n",
    "\n",
    "- Instalar [MySQL](https://dev.mysql.com/downloads/workbench/). \n",
    "- Instalar MySQL por medio del paquete [XAMPP](https://www.apachefriends.org/es/index.html). \n",
    "\n",
    "Para instalar el conector ODBC y configuración de la conexión,\n",
    "\n",
    "1. Descargar e instalar el [Connector/ODBC de MySQL para Windows](https://dev.mysql.com/downloads/connector/odbc/).\n",
    "2. Configurar conexión a una base de datos existente en MySQL ([instrucciones](https://dev.mysql.com/doc/connector-odbc/en/connector-odbc-configuration-dsn-windows-5-2.html)). Para esto debe conocer los parámetros de configuración de su servidor de base de datos.\n",
    "    - **Server**: Nombre del Host o dirección IP del servidor MySQL. Por defecto es `localhost`.\n",
    "    - **User**: Nombre de usuario de MySQL para conectarse al servidor MySQL. Habitualmente es `root`.\n",
    "    - **Password**: Contraseña asociada al usuario __User__.\n",
    "    - **Database**: Nombre de la base de datos a la cual se conectará una vez que se inicie la conexión. Se puede selección desde el menú desplegable."
   ]
  },
  {
   "cell_type": "markdown",
   "metadata": {},
   "source": [
    "## Diseño de cubos con OLAPCube"
   ]
  },
  {
   "cell_type": "markdown",
   "metadata": {},
   "source": [
    "- Descargar e instalar la herramienta [OlapCube](http://www.olapcube.com).\n",
    "\n",
    "- Para iniciar la aplicación OLAPCube, presione ```Evaluate```, ya que no licenciaremos la herramienta.\n",
    "\n",
    "<img src=\"./img/olapcube_license.png\">\n",
    "\n",
    "- Haga clic en `open a sample Project` para observar los ejemplos que trae la herramienta.\n",
    "\n",
    "<img src=\"./img/olapcube_welcome.png\">\n",
    "\n",
    "- Observe las propiedades de las dimensiones y las medidas, en el panel ubicado a la izquierda de la ventana.\n",
    "\n",
    "<img src=\"./img/olapcube_buildcube.png\">\n",
    "\n",
    "- Para construir un cubo, haga clic sobre ```build cube```.\n",
    "- Para construir una tabla dinámica en MS-Excel, haga clic sobre ```open in Excel```."
   ]
  },
  {
   "cell_type": "markdown",
   "metadata": {},
   "source": [
    "## Guía para el diseño de un cubo"
   ]
  },
  {
   "cell_type": "markdown",
   "metadata": {},
   "source": [
    "\n",
    "\n",
    "1. Crear el modelo de la base datos en  MySQL, a partir del código SQL `universidad_ddl.sql`.\n",
    "2. Insertar datos a la base de datos ejecutando el código SQL `universidad_dml.sql`.\n",
    "3. Iniciar la herramienta OLAPCube, presionar `connect your data source`; seleccionar MySQL como fuente de datos y presionar __OK__.\n",
    "4. Seleccionar la conexión ODBC (la misma configurada en los requisistos de la actividad) y presione __OK__.\n",
    "5. La ventana mostrará las tablas de la base de datos, seleccionarlas todas. \n",
    "6. Diseñar un *data mart*, agregando dimensiones y métricas al cubo ([consultar ayuda](http://www.olapcube.com/help/writer/)):\n",
    "    - Dimensión Alumno (NombreAlumno)\n",
    "    - Dimensión Asignatura (NombreAsignatura)\n",
    "    - Dimensión Profesor (NombreDepto, Titulo, NombreProfesor)\n",
    "    - Dimension Tiempo (Anio)\n",
    "    - Medida Promedio\n",
    "7. Presionar el botón `build cube` para construir el cubo OLAP.\n",
    "7. Revisar los diferentes gráficos porporcionados por la herramienta para la representación de la información.\n",
    "7. Crear una tabla dinámica en MS-Excel, presionando el botón `open in Excel`. \n",
    "7. Construir un gráfico dinámico en MS-Excel."
   ]
  },
  {
   "cell_type": "markdown",
   "metadata": {},
   "source": [
    "## Actividades"
   ]
  },
  {
   "cell_type": "markdown",
   "metadata": {},
   "source": [
    "__NOTA__: Para desarrollar las siguientes actividades deberá simular una datos en la base de datos Postulaciones. Los datos deben ser suficientes para resolver los requerimientos de información.\n",
    "\n",
    "A1. Diseño de un cubo desde una base de datos relacional\n",
    "\n",
    "- A partir de la base de datos operacional Postulaciones, diseñe un cubo para resolver los requerimientos de información.\n",
    "- Obtener respuestas a los requerimientos de información utilizando tablas dinámicas de excel.\n",
    "\n",
    "\n",
    "A2. Diseño de un cubo a partir de un almacén de datos\n",
    "\n",
    "- A partir del almacen de datos Postulaciones, diseñe un cubo para resolver los requerimientos de información.\n",
    "- Obtener respuestas a los requerimientos de información utilizando tablas dinámicas de excel.\n",
    "\n",
    "A3. Confeccione un reporte con los resultados de la actividad.\n",
    "\n",
    "Actividades complementarias.\n",
    "\n",
    "- Investigar sobre el uso de la herramienta [Power Pivot](https://support.office.com/es-es/article/Power-Pivot-análisis-de-datos-eficaz-y-modelado-de-datos-en-Excel-a9c2c6e2-cc49-4976-a7d7-40896795d045).\n",
    "- Revisar la forma de acceder a una base de datos directamente desde MS-Excel [documentación](https://dev.mysql.com/doc/connector-odbc/en/connector-odbc-examples-tools-with-wordexcel.html).\n"
   ]
  }
 ],
 "metadata": {
  "kernelspec": {
   "display_name": "Python 3",
   "language": "python",
   "name": "python3"
  },
  "language_info": {
   "codemirror_mode": {
    "name": "ipython",
    "version": 3
   },
   "file_extension": ".py",
   "mimetype": "text/x-python",
   "name": "python",
   "nbconvert_exporter": "python",
   "pygments_lexer": "ipython3",
   "version": "3.7.3"
  }
 },
 "nbformat": 4,
 "nbformat_minor": 2
}
